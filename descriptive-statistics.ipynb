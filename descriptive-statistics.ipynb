{
 "cells": [
  {
   "cell_type": "code",
   "execution_count": null,
   "metadata": {},
   "outputs": [],
   "source": [
    "import pandas as pd\n"
   ]
  },
  {
   "cell_type": "code",
   "execution_count": null,
   "metadata": {},
   "outputs": [],
   "source": [
    "df = pd.read_excel(\"/Users/zoeweinstein/Desktop/spring-25/soc-693/SOC-693/GSS-clean.xlsx\")\n"
   ]
  },
  {
   "cell_type": "code",
   "execution_count": null,
   "metadata": {},
   "outputs": [
    {
     "data": {
      "text/plain": [
       "   Unnamed: 0  year  id_  wrkstat  ...  sei10  pasei10  masei10  kdpres105plus\n",
       "0        9122  1978    3        1  ...   28.7   -100.0   -100.0           -100\n",
       "1        9124  1978    5        1  ...   24.2   -100.0   -100.0           -100\n",
       "2        9127  1978    8        8  ...   58.4   -100.0   -100.0           -100\n",
       "3        9135  1978   16        1  ...   27.5     28.7   -100.0           -100\n",
       "4        9144  1978   25        1  ...   92.1   -100.0   -100.0           -100\n",
       "\n",
       "[5 rows x 22 columns]\n"
      ]
     },
     "metadata": {},
     "output_type": "display_data"
    }
   ],
   "source": [
    "df.head()\n"
   ]
  },
  {
   "cell_type": "code",
   "execution_count": null,
   "metadata": {},
   "outputs": [
    {
     "data": {
      "text/plain": [
       "<class 'pandas.core.frame.DataFrame'>\n",
       "RangeIndex: 1011 entries, 0 to 1010\n",
       "Data columns (total 22 columns):\n",
       " #   Column         Non-Null Count  Dtype  \n",
       "---  ------         --------------  -----  \n",
       " 0   Unnamed: 0     1011 non-null   int64  \n",
       " 1   year           1011 non-null   int64  \n",
       " 2   id_            1011 non-null   int64  \n",
       " 3   wrkstat        1011 non-null   int64  \n",
       " 4   educ           1011 non-null   int64  \n",
       " 5   paeduc         1011 non-null   int64  \n",
       " 6   maeduc         1011 non-null   int64  \n",
       " 7   degree         1011 non-null   int64  \n",
       " 8   padeg          1011 non-null   int64  \n",
       " 9   madeg          1011 non-null   int64  \n",
       " 10  incom16        1011 non-null   int64  \n",
       " 11  padeath        1011 non-null   int64  \n",
       " 12  madeath        1011 non-null   int64  \n",
       " 13  ballot         1011 non-null   int64  \n",
       " 14  prestg10       1011 non-null   int64  \n",
       " 15  prestg105plus  1011 non-null   int64  \n",
       " 16  papres105plus  1011 non-null   int64  \n",
       " 17  mapres105plus  1011 non-null   int64  \n",
       " 18  sei10          1011 non-null   float64\n",
       " 19  pasei10        1011 non-null   float64\n",
       " 20  masei10        1011 non-null   float64\n",
       " 21  kdpres105plus  1011 non-null   int64  \n",
       "dtypes: float64(3), int64(19)\n",
       "memory usage: 173.9 KB\n"
      ]
     },
     "metadata": {},
     "output_type": "display_data"
    }
   ],
   "source": [
    "df.info()\n"
   ]
  },
  {
   "cell_type": "code",
   "execution_count": null,
   "metadata": {},
   "outputs": [
    {
     "data": {
      "text/plain": [
       "         Unnamed: 0         year  ...      masei10  kdpres105plus\n",
       "count   1011.000000  1011.000000  ...  1011.000000    1011.000000\n",
       "mean   18633.851632  1985.218595  ...   -98.108605     -97.558853\n",
       "std     6314.747654     4.661055  ...    16.160002      18.986114\n",
       "min     9122.000000  1978.000000  ...  -100.000000    -100.000000\n",
       "25%    12046.500000  1980.000000  ...  -100.000000    -100.000000\n",
       "50%    19038.000000  1986.000000  ...  -100.000000    -100.000000\n",
       "75%    23787.000000  1989.000000  ...  -100.000000    -100.000000\n",
       "max    32372.000000  1994.000000  ...    82.500000      87.000000\n",
       "\n",
       "[8 rows x 22 columns]\n"
      ]
     },
     "metadata": {},
     "output_type": "display_data"
    }
   ],
   "source": [
    "df.describe()\n"
   ]
  },
  {
   "cell_type": "code",
   "execution_count": null,
   "metadata": {},
   "outputs": [
    {
     "data": {
      "text/plain": [
       "count    1011.000000\n",
       "mean     1985.218595\n",
       "std         4.661055\n",
       "min      1978.000000\n",
       "25%      1980.000000\n",
       "50%      1986.000000\n",
       "75%      1989.000000\n",
       "max      1994.000000\n",
       "Name: year, dtype: float64\n"
      ]
     },
     "metadata": {},
     "output_type": "display_data"
    }
   ],
   "source": [
    "df['year'].describe()\n"
   ]
  },
  {
   "cell_type": "code",
   "execution_count": null,
   "metadata": {},
   "outputs": [
    {
     "data": {
      "text/plain": [
       "count    1011.000000\n",
       "mean        2.438180\n",
       "std         0.893811\n",
       "min         1.000000\n",
       "25%         2.000000\n",
       "50%         2.000000\n",
       "75%         3.000000\n",
       "max         5.000000\n",
       "Name: incom16, dtype: float64\n"
      ]
     },
     "metadata": {},
     "output_type": "display_data"
    }
   ],
   "source": [
    "df['incom16'].describe()\n"
   ]
  },
  {
   "cell_type": "code",
   "execution_count": null,
   "metadata": {},
   "outputs": [
    {
     "data": {
      "text/plain": [
       "count    1011.000000\n",
       "mean       39.887636\n",
       "std        20.504986\n",
       "min         9.000000\n",
       "25%        24.000000\n",
       "50%        38.100000\n",
       "75%        52.000000\n",
       "max        92.800000\n",
       "Name: sei10, dtype: float64\n"
      ]
     },
     "metadata": {},
     "output_type": "display_data"
    }
   ],
   "source": [
    "df['sei10'].describe()\n"
   ]
  },
  {
   "cell_type": "code",
   "execution_count": null,
   "metadata": {},
   "outputs": [
    {
     "data": {
      "text/plain": [
       "count    1011.000000\n",
       "mean       40.673591\n",
       "std        12.357636\n",
       "min        16.000000\n",
       "25%        31.000000\n",
       "50%        39.000000\n",
       "75%        47.000000\n",
       "max        80.000000\n",
       "Name: prestg10, dtype: float64\n"
      ]
     },
     "metadata": {},
     "output_type": "display_data"
    }
   ],
   "source": [
    "df[\"prestg10\"].describe()\n"
   ]
  },
  {
   "cell_type": "code",
   "execution_count": null,
   "metadata": {},
   "outputs": [
    {
     "data": {
      "text/plain": [
       "degree\n",
       "1    489\n",
       "0    347\n",
       "3     98\n",
       "2     41\n",
       "4     36\n",
       "Name: count, dtype: int64\n"
      ]
     },
     "metadata": {},
     "output_type": "display_data"
    }
   ],
   "source": [
    "df['degree'].value_counts()\n"
   ]
  },
  {
   "cell_type": "code",
   "execution_count": null,
   "metadata": {},
   "outputs": [
    {
     "data": {
      "text/plain": [
       "wrkstat\n",
       "1    459\n",
       "5    183\n",
       "7    172\n",
       "2    103\n",
       "4     43\n",
       "3     24\n",
       "8     16\n",
       "6     11\n",
       "Name: count, dtype: int64\n"
      ]
     },
     "metadata": {},
     "output_type": "display_data"
    }
   ],
   "source": [
    "df['wrkstat'].value_counts()\n"
   ]
  },
  {
   "cell_type": "code",
   "execution_count": null,
   "metadata": {},
   "outputs": [],
   "source": []
  }
 ],
 "metadata": {
  "language_info": {
   "name": "python"
  }
 },
 "nbformat": 4,
 "nbformat_minor": 2
}
